{
 "cells": [
  {
   "cell_type": "code",
   "execution_count": null,
   "id": "mediterranean-hundred",
   "metadata": {},
   "outputs": [],
   "source": [
    "import traitlets\n",
    "import ipywidgets.widgets as widgets\n",
    "from IPython.display import display\n",
    "from jetbot import Camera, bgr8_to_jpeg\n",
    "\n",
    "# Create a camera instance (CSI Pi camera)\n",
    "camera = Camera.instance(width=320, height=240)\n",
    "\n",
    "# Create a Jupyter widget to hold the image\n",
    "image = widgets.Image(format='jpeg', width=320, height=240)\n",
    "\n",
    "# Link the camera output to the widget\n",
    "camera_link = traitlets.dlink(\n",
    "    (camera, 'value'),   # source: camera frames (BGR8 numpy array)\n",
    "    (image, 'value'),    # destination: widget image\n",
    "    transform=bgr8_to_jpeg  # convert numpy array → jpeg\n",
    ")\n",
    "\n",
    "# Display in notebook\n",
    "display(image)"
   ]
  }
 ],
 "metadata": {
  "kernelspec": {
   "display_name": "Python 3",
   "language": "python",
   "name": "python3"
  },
  "language_info": {
   "codemirror_mode": {
    "name": "ipython",
    "version": 3
   },
   "file_extension": ".py",
   "mimetype": "text/x-python",
   "name": "python",
   "nbconvert_exporter": "python",
   "pygments_lexer": "ipython3",
   "version": "3.6.9"
  }
 },
 "nbformat": 4,
 "nbformat_minor": 5
}
