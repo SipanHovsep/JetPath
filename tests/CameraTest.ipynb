{
 "cells": [
  {
   "cell_type": "code",
   "execution_count": null,
   "id": "mediterranean-hundred",
   "metadata": {},
   "outputs": [],
   "source": [
    "import traitlets\n",
    "import ipywidgets.widgets as widgets\n",
    "from IPython.display import display\n",
    "from jetbot import Camera, bgr8_to_jpeg\n",
    "import cv2\n",
    "\n",
    "# Camera resolution\n",
    "cam_width = 640\n",
    "cam_height = 480\n",
    "\n",
    "# Start camera\n",
    "camera = Camera.instance(width=cam_width, height=cam_height)\n",
    "\n",
    "# Create two image widgets\n",
    "image_color = widgets.Image(format='jpeg', width=cam_width, height=cam_height)\n",
    "image_gray  = widgets.Image(format='jpeg', width=cam_width, height=cam_height)\n",
    "\n",
    "# Transform function for grayscale\n",
    "def bgr8_to_jpeg_gray(value):\n",
    "    gray = cv2.cvtColor(value, cv2.COLOR_BGR2GRAY)     # Convert to grayscale\n",
    "    gray_bgr = cv2.cvtColor(gray, cv2.COLOR_GRAY2BGR)  # Convert back to 3-channels\n",
    "    return bgr8_to_jpeg(gray_bgr)\n",
    "\n",
    "# Link camera to both widgets\n",
    "color_link = traitlets.dlink((camera, 'value'), (image_color, 'value'), transform=bgr8_to_jpeg)\n",
    "gray_link  = traitlets.dlink((camera, 'value'), (image_gray, 'value'),  transform=bgr8_to_jpeg_gray)\n",
    "\n",
    "# Display side by side\n",
    "display(widgets.HBox([image_color, image_gray]))"
   ]
  }
 ],
 "metadata": {
  "kernelspec": {
   "display_name": "Python 3",
   "language": "python",
   "name": "python3"
  },
  "language_info": {
   "codemirror_mode": {
    "name": "ipython",
    "version": 3
   },
   "file_extension": ".py",
   "mimetype": "text/x-python",
   "name": "python",
   "nbconvert_exporter": "python",
   "pygments_lexer": "ipython3",
   "version": "3.6.9"
  }
 },
 "nbformat": 4,
 "nbformat_minor": 5
}
