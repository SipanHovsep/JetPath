{
 "cells": [
  {
   "cell_type": "code",
   "execution_count": null,
   "id": "vertical-pakistan",
   "metadata": {},
   "outputs": [],
   "source": [
    "import traitlets\n",
    "import ipywidgets.widgets as widgets\n",
    "from IPython.display import display\n",
    "from jetbot import Camera, bgr8_to_jpeg\n",
    "import cv2\n",
    "\n",
    "# Camera\n",
    "camera_width = 640\n",
    "camera_height = 480\n",
    "camera = Camera.instance(width=camera_width, height=camera_height)\n",
    "\n",
    "# Widgets\n",
    "grayscale_display = widgets.Image(format='jpeg', width=camera_width, height=camera_height)\n",
    "line_mask_display = widgets.Image(format='jpeg', width=camera_width, height=camera_height)\n",
    "display(widgets.HBox([grayscale_display, line_mask_display]))\n",
    "\n",
    "def detect_black_line(frame):\n",
    "    grayscale_frame = cv2.cvtColor(frame, cv2.COLOR_BGR2GRAY)\n",
    "    grayscale_bgr_frame = cv2.cvtColor(grayscale_frame, cv2.COLOR_GRAY2BGR)\n",
    "    grayscale_display.value = bgr8_to_jpeg(grayscale_bgr_frame)\n",
    "\n",
    "    redundant, binary_line_mask = cv2.threshold(grayscale_frame, 0, 255, cv2.THRESH_BINARY_INV + cv2.THRESH_OTSU)\n",
    "\n",
    "    binary_mask_bgr = cv2.cvtColor(binary_line_mask, cv2.COLOR_GRAY2BGR)\n",
    "    line_mask_display.value = bgr8_to_jpeg(binary_mask_bgr)\n",
    "\n",
    "# Link camera frames to processing\n",
    "camera.observe(lambda change: detect_black_line(change['new']), names='value')"
   ]
  },
  {
   "cell_type": "code",
   "execution_count": null,
   "id": "statutory-cleaner",
   "metadata": {},
   "outputs": [],
   "source": [
    "camera.stop()"
   ]
  }
 ],
 "metadata": {
  "kernelspec": {
   "display_name": "Python 3",
   "language": "python",
   "name": "python3"
  },
  "language_info": {
   "codemirror_mode": {
    "name": "ipython",
    "version": 3
   },
   "file_extension": ".py",
   "mimetype": "text/x-python",
   "name": "python",
   "nbconvert_exporter": "python",
   "pygments_lexer": "ipython3",
   "version": "3.6.9"
  }
 },
 "nbformat": 4,
 "nbformat_minor": 5
}
