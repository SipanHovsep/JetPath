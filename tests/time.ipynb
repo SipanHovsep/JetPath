import cv2
import time

# Open the camera
cap = cv2.VideoCapture(0)  # Adjust index if you have multiple cameras

# Number of frames to test
num_frames = 50

# List to store times for each capture
capture_times = []

# Warm up the camera with a few initial frames
for _ in range(5):
    cap.read()

# Now measure capture times
for i in range(num_frames):
    start = time.time()
    ret, frame = cap.read()
    end = time.time()

    if ret:
        elapsed_time = end - start
        capture_times.append(elapsed_time)
        print(f"Frame {i+1}: {elapsed_time:.4f} seconds")
    else:
        print(f"Frame {i+1}: Capture failed")

# Release the camera
cap.release()

# Calculate statistics
if capture_times:
    avg_time = sum(capture_times) / len(capture_times)
    min_time = min(capture_times)
    max_time = max(capture_times)
    print("\n--- Capture Time Statistics ---")
    print(f"Average: {avg_time:.4f} seconds")
    print(f"Minimum: {min_time:.4f} seconds")
    print(f"Maximum: {max_time:.4f} seconds")
