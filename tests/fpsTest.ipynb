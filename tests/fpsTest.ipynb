{
 "cells": [
  {
   "cell_type": "code",
   "execution_count": null,
   "id": "87a8ab38",
   "metadata": {
    "vscode": {
     "languageId": "plaintext"
    }
   },
   "outputs": [],
   "source": [
    "import traitlets\n",
    "import ipywidgets.widgets as widgets\n",
    "from IPython.display import display\n",
    "from jetbot import Camera, bgr8_to_jpeg\n",
    "import cv2\n",
    "import time\n",
    "\n",
    "# Camera resolution\n",
    "cam_width = 640\n",
    "cam_height = 480\n",
    "\n",
    "# Start camera\n",
    "camera = Camera.instance(width=cam_width, height=cam_height)\n",
    "\n",
    "# Create image widget\n",
    "image_color = widgets.Image(format='jpeg', width=cam_width, height=cam_height)\n",
    "\n",
    "# FPS label widget\n",
    "fps_label = widgets.Label(value=\"FPS: 0\")\n",
    "\n",
    "# Track timing for FPS calculation\n",
    "last_time = time.time()\n",
    "frame_count = 0\n",
    "fps = 0\n",
    "\n",
    "# Update function\n",
    "def update_frame(change):\n",
    "    global last_time, frame_count, fps\n",
    "    \n",
    "    frame = change['new']\n",
    "    \n",
    "    # Update color image\n",
    "    image_color.value = bgr8_to_jpeg(frame)\n",
    "    \n",
    "    # FPS calculation\n",
    "    frame_count += 1\n",
    "    now = time.time()\n",
    "    elapsed = now - last_time\n",
    "    if elapsed >= 1.0:\n",
    "        fps = frame_count / elapsed\n",
    "        fps_label.value = f\"FPS: {fps:.2f}\"\n",
    "        frame_count = 0\n",
    "        last_time = now\n",
    "\n",
    "# Observe camera frames\n",
    "camera.observe(update_frame, names='value')\n",
    "\n",
    "# Display image with FPS below it\n",
    "display(widgets.VBox([image_color, fps_label]))"
   ]
  }
 ],
 "metadata": {
  "language_info": {
   "name": "python"
  }
 },
 "nbformat": 4,
 "nbformat_minor": 5
}
