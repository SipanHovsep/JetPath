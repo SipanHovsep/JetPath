{
 "cells": [
  {
   "cell_type": "code",
   "execution_count": null,
   "id": "mediterranean-hundred",
   "metadata": {},
   "outputs": [],
   "source": [
    "import ipywidgets as widgets\n",
    "import traitlets\n",
    "from jetbot import Robot, Camera, bgr8_to_jpeg, Heartbeat\n",
    "from IPython.display import display\n",
    "\n",
    "# Controller setup (adjust index if needed) \n",
    "controller = widgets.Controller(index=1)\n",
    "display(controller)\n",
    "\n",
    "# Robot setup \n",
    "robot = Robot()\n",
    "left_link  = traitlets.dlink((controller.axes[1], 'value'), (robot.left_motor, 'value'), transform=lambda x: -x)\n",
    "right_link = traitlets.dlink((controller.axes[3], 'value'), (robot.right_motor, 'value'), transform=lambda x: -x)\n",
    "\n",
    "# Camera resolution \n",
    "cam_width = 320\n",
    "cam_height = 240\n",
    "\n",
    "# Camera setup \n",
    "camera = Camera.instance(width=cam_width, height=cam_height)\n",
    "image = widgets.Image(format='jpeg', width=cam_width, height=cam_height)\n",
    "camera_link = traitlets.dlink((camera, 'value'), (image, 'value'), transform=bgr8_to_jpeg)\n",
    "display(image)\n",
    "\n",
    "# Safety: heartbeat stop \n",
    "def handle_heartbeat_status(change):\n",
    "    if change['new'] == Heartbeat.Status.dead:\n",
    "        camera_link.unlink()\n",
    "        left_link.unlink()\n",
    "        right_link.unlink()\n",
    "        robot.stop()\n",
    "\n",
    "heartbeat = Heartbeat(period=0.5)\n",
    "heartbeat.observe(handle_heartbeat_status, names='status')\n"
   ]
  }
 ],
 "metadata": {
  "kernelspec": {
   "display_name": "Python 3",
   "language": "python",
   "name": "python3"
  },
  "language_info": {
   "codemirror_mode": {
    "name": "ipython",
    "version": 3
   },
   "file_extension": ".py",
   "mimetype": "text/x-python",
   "name": "python",
   "nbconvert_exporter": "python",
   "pygments_lexer": "ipython3",
   "version": "3.6.9"
  }
 },
 "nbformat": 4,
 "nbformat_minor": 5
}
