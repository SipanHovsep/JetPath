{
 "cells": [
  {
   "cell_type": "code",
   "execution_count": null,
   "id": "mediterranean-hundred",
   "metadata": {},
   "outputs": [],
   "source": [
    "import ipywidgets as widgets\n",
    "import traitlets\n",
    "from jetbot import Robot, Camera, bgr8_to_jpeg, Heartbeat\n",
    "from IPython.display import display\n",
    "import threading\n",
    "import time\n",
    "\n",
    "# Controller \n",
    "controller = widgets.Controller(index=0)\n",
    "display(controller)\n",
    "\n",
    "# Robot \n",
    "robot = Robot()\n",
    "\n",
    "# Camera \n",
    "cam_width = 320\n",
    "cam_height = 240\n",
    "camera = Camera.instance(width=cam_width, height=cam_height)\n",
    "image = widgets.Image(format='jpeg', width=cam_width, height=cam_height)\n",
    "display(image)\n",
    "camera_link = traitlets.dlink((camera, 'value'), (image, 'value'), transform=bgr8_to_jpeg)\n",
    "\n",
    "# Heartbeat stop \n",
    "def handle_heartbeat_status(change):\n",
    "    if change['new'] == Heartbeat.Status.dead:\n",
    "        #camera_link.unlink()\n",
    "        robot.stop()\n",
    "\n",
    "heartbeat = Heartbeat(period=0.5)\n",
    "heartbeat.observe(handle_heartbeat_status, names='status')\n",
    "\n",
    "# Arcade drive in background thread \n",
    "def arcade_loop():\n",
    "    while True:\n",
    "        if len(controller.axes) >= 2:\n",
    "            forward_scale = 0.5  # axis 1 mapped to [-0.5, 0.5]\n",
    "            turn_scale    = 0.2  # axis 0 mapped to [-0.2, 0.2]\n",
    "            forward = -controller.axes[1].value * forward_scale\n",
    "            turn    = controller.axes[0].value * turn_scale\n",
    "            left_motor  = max(-1, min(1, forward + turn))\n",
    "            right_motor = max(-1, min(1, forward - turn))\n",
    "            robot.left_motor.value  = left_motor\n",
    "            robot.right_motor.value = right_motor\n",
    "        time.sleep(0.02)  # 50 Hz update\n",
    "\n",
    "thread = threading.Thread(target=arcade_loop, daemon=True)\n",
    "thread.start()\n"
   ]
  }
 ],
 "metadata": {
  "kernelspec": {
   "display_name": "Python 3",
   "language": "python",
   "name": "python3"
  },
  "language_info": {
   "codemirror_mode": {
    "name": "ipython",
    "version": 3
   },
   "file_extension": ".py",
   "mimetype": "text/x-python",
   "name": "python",
   "nbconvert_exporter": "python",
   "pygments_lexer": "ipython3",
   "version": "3.6.9"
  }
 },
 "nbformat": 4,
 "nbformat_minor": 5
}
