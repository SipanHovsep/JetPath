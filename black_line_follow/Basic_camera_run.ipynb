{
 "cells": [
  {
   "cell_type": "code",
   "execution_count": 1,
   "id": "incident-paris",
   "metadata": {},
   "outputs": [],
   "source": [
    "\n",
    "from jetbot import Robot\n",
    "import traitlets\n",
    "import ipywidgets.widgets as widgets\n",
    "from jetbot import Camera\n",
    "from jetbot import bgr8_to_jpeg\n",
    "import cv2\n",
    "import numpy as np\n",
    "import time"
   ]
  },
  {
   "cell_type": "code",
   "execution_count": 4,
   "id": "explicit-concentrate",
   "metadata": {},
   "outputs": [
    {
     "data": {
      "application/vnd.jupyter.widget-view+json": {
       "model_id": "f7c4806d0e8145c3a88f81d57fa1a96c",
       "version_major": 2,
       "version_minor": 0
      },
      "text/plain": [
       "Image(value=b'', format='jpeg', height='480', width='640')"
      ]
     },
     "metadata": {},
     "output_type": "display_data"
    }
   ],
   "source": [
    "\n",
    "# Initialize camera\n",
    "camera = Camera.instance()\n",
    "image = widgets.Image(format='jpeg', width=640, height=480)\n",
    "\n",
    "def process_frame(change):\n",
    "    Greendetected = False\n",
    "    \n",
    "    frame = change['new']\n",
    "\n",
    "    # Select Region of Interest (ROI) from the frame\n",
    "    roi = frame[200:250, 0:639]\n",
    "\n",
    "    # Threshold for black line detection\n",
    "    Blackline = cv2.inRange(roi, (0, 0, 0), (110, 110, 110))\n",
    "    Greensign = cv2.inRange(roi, (0, 100, 0), (100, 255, 100))\n",
    "\n",
    "    # Morphological operations\n",
    "    kernel = np.ones((7, 7), np.uint8)\n",
    "    Blackline = cv2.erode(Blackline, kernel, iterations=5)\n",
    "    Blackline = cv2.dilate(Blackline, kernel, iterations=9)\n",
    "    Greensign = cv2.erode(Greensign, kernel, iterations=5)\n",
    "    Greensign = cv2.dilate(Greensign, kernel, iterations=9)\n",
    "\n",
    "    # Find contours\n",
    "    contours_blk, hierarchy_blk = cv2.findContours(Blackline.copy(),cv2.RETR_EXTERNAL,cv2.CHAIN_APPROX_SIMPLE)\n",
    "    countours_grn,hierarchy_grn = cv2.findContours(Greensign.copy(),cv2.RETR_EXTERNAL,cv2.CHAIN_APPROX_SIMPLE)\n",
    "\n",
    "    if len(countours_grn) > 0:\n",
    "        Greendetected=True\n",
    "        x_grn, y_grn, w_grn, h_grn = cv2.boundingRect(countours_grn[0])\n",
    "        centerx_grn=x_grn+(w_grn//2)\n",
    "        cv2.line(frame, (centerx_grn, 200), (centerx_grn, 250), (0, 0, 255), 3)\n",
    "\n",
    "    if len(contours_blk) > 0:\n",
    "        x_blk, y_blk, w_blk, h_blk = cv2.boundingRect(contours_blk[0])\n",
    "        centerx_blk=x_blk+(w_blk//2)\n",
    "        cv2.line(frame, (centerx_blk, 200), (centerx_blk, 250), (255, 0, 0), 3)\n",
    "\n",
    "        if Greendetected:\n",
    "            if centerx_grn>centerx_blk:\n",
    "                cv2.putText(frame,\"Turn right\", (350,50) ,cv2.FONT_HERSHEY_SIMPLEX,0.7,(0,255,0),2)\n",
    "            else:\n",
    "                cv2.putText(frame,\"Turn left\", (50,50) ,cv2.FONT_HERSHEY_SIMPLEX,0.7,(0,255,0),2)\n",
    "\n",
    "        else :\n",
    "            setpoint=320\n",
    "            deviation=centerx_blk-setpoint\n",
    "            centertext=\"Deviation = \"+str(deviation)\n",
    "            cv2.putText(frame, centertext,(50,100), cv2.FONT_HERSHEY_SIMPLEX,0.5,(255,0,0),2)\n",
    "\n",
    "    # Update display\n",
    "    image.value = bgr8_to_jpeg(frame)\n",
    "\n",
    "display(image)\n",
    "camera.observe(process_frame, names='value')"
   ]
  },
  {
   "cell_type": "code",
   "execution_count": 3,
   "id": "african-reproduction",
   "metadata": {},
   "outputs": [],
   "source": [
    "camera.stop()"
   ]
  },
  {
   "cell_type": "code",
   "execution_count": null,
   "id": "motivated-farmer",
   "metadata": {},
   "outputs": [],
   "source": []
  }
 ],
 "metadata": {
  "kernelspec": {
   "display_name": "Python 3",
   "language": "python",
   "name": "python3"
  },
  "language_info": {
   "codemirror_mode": {
    "name": "ipython",
    "version": 3
   },
   "file_extension": ".py",
   "mimetype": "text/x-python",
   "name": "python",
   "nbconvert_exporter": "python",
   "pygments_lexer": "ipython3",
   "version": "3.6.9"
  }
 },
 "nbformat": 4,
 "nbformat_minor": 5
}
