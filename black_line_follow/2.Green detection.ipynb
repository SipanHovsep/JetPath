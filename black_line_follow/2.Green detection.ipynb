{
 "cells": [
  {
   "cell_type": "code",
   "execution_count": 2,
   "id": "satisfied-advance",
   "metadata": {},
   "outputs": [],
   "source": [
    "\n",
    "from jetbot import Robot\n",
    "import traitlets\n",
    "import ipywidgets.widgets as widgets\n",
    "from jetbot import Camera\n",
    "from jetbot import bgr8_to_jpeg\n",
    "import cv2\n",
    "import numpy as np\n",
    "import time\n",
    "\n"
   ]
  },
  {
   "cell_type": "markdown",
   "id": "legendary-consciousness",
   "metadata": {},
   "source": [
    "Thresholding is based on lab environment whee the tape was on grey background."
   ]
  },
  {
   "cell_type": "code",
   "execution_count": 9,
   "id": "cloudy-newton",
   "metadata": {},
   "outputs": [
    {
     "data": {
      "application/vnd.jupyter.widget-view+json": {
       "model_id": "15f6b5584f404bf6a4e5efd7b6c8cf6f",
       "version_major": 2,
       "version_minor": 0
      },
      "text/plain": [
       "Image(value=b'', format='jpeg', height='480', width='640')"
      ]
     },
     "metadata": {},
     "output_type": "display_data"
    }
   ],
   "source": [
    "# Initialize camera\n",
    "camera = Camera.instance()\n",
    "image = widgets.Image(format='jpeg', width=640, height=480)\n",
    "Blackline_image = widgets.Image(format='jpeg', width=640, height=480)\n",
    "\n",
    "def process_frame(change): \n",
    "    Greendetected =False\n",
    "    Blackdetected=False\n",
    "    \n",
    "    frame = change['new'] \n",
    "    roi=frame[50:150, 0:640] \n",
    "    Blackline=cv2.inRange(roi, (15,15,15), (100,100,100)) \n",
    "    Greensign=cv2.inRange(roi, (15,50,15), (110,250,110))\n",
    "    \n",
    "    \n",
    "    \n",
    "    kernel=np.ones((5,5), np.uint8) \n",
    "    Blackline=cv2.erode(Blackline,kernel,iterations=5) \n",
    "    Blackline=cv2.dilate(Blackline,kernel,iterations=6) \n",
    "    Greensign=cv2.erode(Greensign,kernel,iterations=5) \n",
    "    Greensign=cv2.dilate(Greensign,kernel,iterations=6) \n",
    "    \n",
    "    \n",
    "    contours_blk,hierarchy_blk = cv2.findContours(Blackline.copy(),cv2.RETR_EXTERNAL,cv2.CHAIN_APPROX_SIMPLE) \n",
    "    contours_green,hierarchy_green = cv2.findContours(Greensign.copy(),cv2.RETR_EXTERNAL,cv2.CHAIN_APPROX_SIMPLE) \n",
    "    \n",
    "    \n",
    "    if len(contours_green)>0:\n",
    "        Greendetected = True\n",
    "        x_green,y_green,w_green,h_green=cv2.boundingRect(contours_green[0]) \n",
    "        centerx_green=x_green+(w_green//2)\n",
    "        cv2.line(frame, (centerx_green, 50), (centerx_green  , 150), (0, 0, 255), 1) \n",
    "\n",
    "    \n",
    "    \n",
    "    # cv2.drawContours(roi,contours,-1,(0,255,0),1) \n",
    "    if len(contours_blk)>0: \n",
    "        Blackdetected=True\n",
    "        largest = max(contours_blk, key=cv2.contourArea)\n",
    "        x_blk,y_blk,w_blk,h_blk=cv2.boundingRect(largest) \n",
    "      #  cv2.rectangle(roi, (x,y), (x+w,y+h),(0,0,255),1) \n",
    "        centerx_blk=x_blk+(w_blk//2)\n",
    "        cv2.line(roi, (centerx_blk, 50), (centerx_blk  , 150), (255, 0, 0), 1) \n",
    "        \n",
    "        \n",
    "    if Greendetected and Blackdetected:\n",
    "        if centerx_green>centerx_blk:\n",
    "            cv2.putText(frame, \"Turn Right\", (50,100), cv2.FONT_HERSHEY_SIMPLEX, 0.5, (0,255,0),1)\n",
    "        else:\n",
    "            cv2.putText(frame, \"Turn Left\", (50,100), cv2.FONT_HERSHEY_SIMPLEX, 0.5, (0,255,0),1)\n",
    "    \n",
    "    if Blackdetected:\n",
    "        setpoint=100\n",
    "        deviation=centerx_blk-setpoint\n",
    "        centertext=\"Deviation = \"+str(deviation)\n",
    "        cv2.putText(frame, centertext, (70,120), cv2.FONT_HERSHEY_SIMPLEX, 0.5, (0,255,0),1)\n",
    "        \n",
    "    image.value = bgr8_to_jpeg(frame) \n",
    "    Blackline_bgr=cv2.cvtColor(Blackline, cv2.COLOR_GRAY2BGR) \n",
    "    Blackline_image.value=bgr8_to_jpeg(Blackline_bgr) \n",
    "\n",
    "display(image) \n",
    "camera.observe(process_frame, names='value')"
   ]
  },
  {
   "cell_type": "code",
   "execution_count": 10,
   "id": "allied-portugal",
   "metadata": {},
   "outputs": [],
   "source": [
    "camera.stop()\n",
    "\n"
   ]
  },
  {
   "cell_type": "markdown",
   "id": "sudden-essay",
   "metadata": {},
   "source": []
  }
 ],
 "metadata": {
  "kernelspec": {
   "display_name": "Python 3",
   "language": "python",
   "name": "python3"
  },
  "language_info": {
   "codemirror_mode": {
    "name": "ipython",
    "version": 3
   },
   "file_extension": ".py",
   "mimetype": "text/x-python",
   "name": "python",
   "nbconvert_exporter": "python",
   "pygments_lexer": "ipython3",
   "version": "3.6.9"
  }
 },
 "nbformat": 4,
 "nbformat_minor": 5
}
