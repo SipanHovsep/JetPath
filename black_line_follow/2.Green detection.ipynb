{
 "cells": [
  {
   "cell_type": "code",
   "execution_count": null,
   "id": "satisfied-advance",
   "metadata": {},
   "outputs": [],
   "source": [
    "\n",
    "from jetbot import Robot\n",
    "import traitlets\n",
    "import ipywidgets.widgets as widgets\n",
    "from jetbot import Camera\n",
    "from jetbot import bgr8_to_jpeg\n",
    "import cv2\n",
    "import numpy as np\n",
    "import time"
   ]
  },
  {
   "cell_type": "code",
   "execution_count": null,
   "id": "cloudy-newton",
   "metadata": {},
   "outputs": [],
   "source": [
    "# Initialize camera\n",
    "camera = Camera.instance()\n",
    "image = widgets.Image(format='jpeg', width=640, height=480)\n",
    "Blackline_image = widgets.Image(format='jpeg', width=640, height=480)\n",
    "\n",
    "def process_frame(change):\n",
    "    Greendetected = False\n",
    "    Blackdetected = False\n",
    "\n",
    "    frame = change['new']\n",
    "    roi = frame[50:150, 0:640]\n",
    "\n",
    "    blurred = cv2.GaussianBlur(roi, (5, 5), 0)\n",
    "    hsv = cv2.cvtColor(blurred, cv2.COLOR_BGR2HSV)\n",
    "    h, s, v = cv2.split(hsv)\n",
    "\n",
    "    mean_v = np.mean(v)\n",
    "    _, Blackline = cv2.threshold(v, mean_v * 0.6, 255, cv2.THRESH_BINARY_INV)\n",
    "    Blackline = cv2.bitwise_and(Blackline, cv2.inRange(s, 0, 80))\n",
    "\n",
    "    mask_greenish = (h > 30) & (h < 90) & (s > 50)\n",
    "    if np.any(mask_greenish):\n",
    "        mean_h = np.mean(h[mask_greenish])\n",
    "        lower_h = max(mean_h - 10, 30)\n",
    "        upper_h = min(mean_h + 10, 90)\n",
    "    else:\n",
    "        lower_h, upper_h = 30, 90\n",
    "\n",
    "    Greensign = cv2.inRange(hsv, (lower_h, 60, 40), (upper_h, 255, 255))\n",
    "\n",
    "    kernel = np.ones((5, 5), np.uint8)\n",
    "    Blackline = cv2.erode(Blackline, kernel, iterations=5)\n",
    "    Blackline = cv2.dilate(Blackline, kernel, iterations=6)\n",
    "    Greensign = cv2.erode(Greensign, kernel, iterations=5)\n",
    "    Greensign = cv2.dilate(Greensign, kernel, iterations=6)\n",
    "\n",
    "    contours_blk, _ = cv2.findContours(Blackline.copy(), cv2.RETR_EXTERNAL, cv2.CHAIN_APPROX_SIMPLE)\n",
    "    contours_green, _ = cv2.findContours(Greensign.copy(), cv2.RETR_EXTERNAL, cv2.CHAIN_APPROX_SIMPLE)\n",
    "\n",
    "    if len(contours_green) > 0:\n",
    "        Greendetected = True\n",
    "        x_green, y_green, w_green, h_green = cv2.boundingRect(contours_green[0])\n",
    "        centerx_green = x_green + (w_green // 2)\n",
    "        cv2.line(frame, (centerx_green, 50), (centerx_green, 150), (0, 0, 255), 1)\n",
    "\n",
    "    if len(contours_blk) > 0:\n",
    "        Blackdetected = True\n",
    "        largest = max(contours_blk, key=cv2.contourArea)\n",
    "        x_blk, y_blk, w_blk, h_blk = cv2.boundingRect(largest)\n",
    "        centerx_blk = x_blk + (w_blk // 2)\n",
    "        cv2.line(roi, (centerx_blk, 50), (centerx_blk, 150), (255, 0, 0), 1)\n",
    "\n",
    "    if Greendetected and Blackdetected:\n",
    "        if centerx_green > centerx_blk:\n",
    "            cv2.putText(frame, \"Turn Right\", (50, 100), cv2.FONT_HERSHEY_SIMPLEX, 0.5, (0, 255, 0), 1)\n",
    "        else:\n",
    "            cv2.putText(frame, \"Turn Left\", (50, 100), cv2.FONT_HERSHEY_SIMPLEX, 0.5, (0, 255, 0), 1)\n",
    "\n",
    "    if Blackdetected:\n",
    "        setpoint = 100\n",
    "        deviation = centerx_blk - setpoint\n",
    "        cv2.putText(frame, f\"Deviation = {deviation}\", (70, 120), cv2.FONT_HERSHEY_SIMPLEX, 0.5, (0, 255, 0), 1)\n",
    "\n",
    "    image.value = bgr8_to_jpeg(frame)\n",
    "    Blackline_bgr = cv2.cvtColor(Blackline, cv2.COLOR_GRAY2BGR)\n",
    "    Blackline_image.value = bgr8_to_jpeg(Blackline_bgr)\n",
    "\n",
    "display(image) \n",
    "camera.observe(process_frame, names='value')"
   ]
  },
  {
   "cell_type": "code",
   "execution_count": 10,
   "id": "allied-portugal",
   "metadata": {},
   "outputs": [],
   "source": [
    "camera.stop()\n",
    "\n"
   ]
  },
  {
   "cell_type": "markdown",
   "id": "sudden-essay",
   "metadata": {},
   "source": []
  }
 ],
 "metadata": {
  "kernelspec": {
   "display_name": "Python 3",
   "language": "python",
   "name": "python3"
  },
  "language_info": {
   "codemirror_mode": {
    "name": "ipython",
    "version": 3
   },
   "file_extension": ".py",
   "mimetype": "text/x-python",
   "name": "python",
   "nbconvert_exporter": "python",
   "pygments_lexer": "ipython3",
   "version": "3.6.9"
  }
 },
 "nbformat": 4,
 "nbformat_minor": 5
}
