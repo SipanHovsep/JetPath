{
 "cells": [
  {
   "cell_type": "code",
   "execution_count": 19,
   "id": "least-amount",
   "metadata": {},
   "outputs": [],
   "source": [
    "\n",
    "from jetbot import Robot\n",
    "import traitlets\n",
    "import ipywidgets.widgets as widgets\n",
    "from jetbot import Camera\n",
    "from jetbot import bgr8_to_jpeg\n",
    "import cv2\n",
    "import numpy as np\n",
    "import time\n",
    "\n"
   ]
  },
  {
   "cell_type": "markdown",
   "id": "suburban-server",
   "metadata": {},
   "source": [
    "Thresholding is based on lab environment whee the tape was on grey background."
   ]
  },
  {
   "cell_type": "code",
   "execution_count": 20,
   "id": "efficient-charles",
   "metadata": {},
   "outputs": [
    {
     "data": {
      "application/vnd.jupyter.widget-view+json": {
       "model_id": "1165ff613c3543a9aa89eda9d16c801c",
       "version_major": 2,
       "version_minor": 0
      },
      "text/plain": [
       "Image(value=b'', format='jpeg', height='480', width='640')"
      ]
     },
     "metadata": {},
     "output_type": "display_data"
    }
   ],
   "source": [
    "# Initialize camera\n",
    "camera = Camera.instance()\n",
    "image = widgets.Image(format='jpeg', width=640, height=480)\n",
    "Blackline_image = widgets.Image(format='jpeg', width=640, height=480)\n",
    "\n",
    "def process_frame(change): \n",
    "    frame = change['new'] \n",
    "    roi=frame[50:150, 0:640] \n",
    "    Blackline=cv2.inRange(roi, (15,15,15), (100,100,100)) \n",
    "    kernel=np.ones((5,5), np.uint8) \n",
    "    Blackline=cv2.erode(Blackline,kernel,iterations=5) \n",
    "    Blackline=cv2.dilate(Blackline,kernel,iterations=6) \n",
    "    contours,hierarchy = cv2.findContours(Blackline.copy(),cv2.RETR_EXTERNAL,cv2.CHAIN_APPROX_SIMPLE) \n",
    "    # cv2.drawContours(roi,contours,-1,(0,255,0),1) \n",
    "    if len(contours)>0: \n",
    "        largest = max(contours, key=cv2.contourArea)\n",
    "        x,y,w,h=cv2.boundingRect(largest) \n",
    "      #  cv2.rectangle(roi, (x,y), (x+w,y+h),(0,0,255),1) \n",
    "        cv2.line(roi, (x + (w//2), 50), (x + (w//2), 150), (255, 0, 0), 1) \n",
    "    image.value = bgr8_to_jpeg(frame) \n",
    "    Blackline_bgr=cv2.cvtColor(Blackline, cv2.COLOR_GRAY2BGR) \n",
    "    Blackline_image.value=bgr8_to_jpeg(Blackline_bgr) \n",
    "\n",
    "display(image) \n",
    "camera.observe(process_frame, names='value')"
   ]
  },
  {
   "cell_type": "code",
   "execution_count": 21,
   "id": "lovely-discrimination",
   "metadata": {},
   "outputs": [],
   "source": [
    "camera.stop()"
   ]
  },
  {
   "cell_type": "code",
   "execution_count": null,
   "id": "apart-algebra",
   "metadata": {},
   "outputs": [],
   "source": []
  }
 ],
 "metadata": {
  "kernelspec": {
   "display_name": "Python 3",
   "language": "python",
   "name": "python3"
  },
  "language_info": {
   "codemirror_mode": {
    "name": "ipython",
    "version": 3
   },
   "file_extension": ".py",
   "mimetype": "text/x-python",
   "name": "python",
   "nbconvert_exporter": "python",
   "pygments_lexer": "ipython3",
   "version": "3.6.9"
  }
 },
 "nbformat": 4,
 "nbformat_minor": 5
}
